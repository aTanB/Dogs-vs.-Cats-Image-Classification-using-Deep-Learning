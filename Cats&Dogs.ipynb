{
  "nbformat": 4,
  "nbformat_minor": 0,
  "metadata": {
    "colab": {
      "name": "Cats&Dogs.ipynb",
      "version": "0.3.2",
      "provenance": [],
      "toc_visible": true,
      "include_colab_link": true
    },
    "kernelspec": {
      "name": "python3",
      "display_name": "Python 3"
    },
    "accelerator": "GPU"
  },
  "cells": [
    {
      "cell_type": "markdown",
      "metadata": {
        "id": "view-in-github",
        "colab_type": "text"
      },
      "source": [
        "[View in Colaboratory](https://colab.research.google.com/github/aTanB/Dogs-vs.-Cats-Image-Classification-using-Deep-Learning/blob/master/Cats&Dogs.ipynb)"
      ]
    },
    {
      "metadata": {
        "id": "tPmX7kH5GADM",
        "colab_type": "code",
        "colab": {
          "base_uri": "https://localhost:8080/",
          "height": 122
        },
        "outputId": "a92f468e-bf8d-4e90-c355-785acb413a11"
      },
      "cell_type": "code",
      "source": [
        "from google.colab import drive\n",
        "drive.mount('/content/drive')"
      ],
      "execution_count": 2,
      "outputs": [
        {
          "output_type": "stream",
          "text": [
            "Go to this URL in a browser: https://accounts.google.com/o/oauth2/auth?client_id=947318989803-6bn6qk8qdgf4n4g3pfee6491hc0brc4i.apps.googleusercontent.com&redirect_uri=urn%3Aietf%3Awg%3Aoauth%3A2.0%3Aoob&scope=email%20https%3A%2F%2Fwww.googleapis.com%2Fauth%2Fdocs.test%20https%3A%2F%2Fwww.googleapis.com%2Fauth%2Fdrive%20https%3A%2F%2Fwww.googleapis.com%2Fauth%2Fdrive.photos.readonly%20https%3A%2F%2Fwww.googleapis.com%2Fauth%2Fpeopleapi.readonly&response_type=code\n",
            "\n",
            "Enter your authorization code:\n",
            "··········\n",
            "Mounted at /content/drive\n"
          ],
          "name": "stdout"
        }
      ]
    },
    {
      "metadata": {
        "id": "rxKBZGr1GWH5",
        "colab_type": "code",
        "colab": {
          "base_uri": "https://localhost:8080/",
          "height": 34
        },
        "outputId": "ee406c8e-bf70-42c1-c111-63ae13e7f522"
      },
      "cell_type": "code",
      "source": [
        "!ls \"/content/drive/My Drive/Private/dataset/training_set\""
      ],
      "execution_count": 3,
      "outputs": [
        {
          "output_type": "stream",
          "text": [
            "cats  dogs\n"
          ],
          "name": "stdout"
        }
      ]
    },
    {
      "metadata": {
        "id": "InAcDOXDIKGc",
        "colab_type": "code",
        "colab": {}
      },
      "cell_type": "code",
      "source": [
        "##Building the CNN!\n",
        "#Bringing in the imports\n",
        "from keras.models import Sequential\n",
        "from keras.layers import Convolution2D\n",
        "from keras.layers import MaxPooling2D\n",
        "from keras.layers import Flatten\n",
        "from keras.layers import Dense"
      ],
      "execution_count": 0,
      "outputs": []
    },
    {
      "metadata": {
        "id": "Pn5DmvySPpKw",
        "colab_type": "code",
        "colab": {}
      },
      "cell_type": "code",
      "source": [
        "classifier = Sequential()\n",
        "classifier.add(Convolution2D(32,(3,3), input_shape=(64,64,3),activation='relu'))\n",
        "classifier.add(MaxPooling2D(pool_size = (2,2)))\n",
        "classifier.add(Flatten())\n",
        "classifier.add(Dense(units = 128, activation = \"relu\"))\n",
        "classifier.add(Dense(units = 1, activation = \"sigmoid\"))\n",
        "\n"
      ],
      "execution_count": 0,
      "outputs": []
    },
    {
      "metadata": {
        "id": "IjUinc9dezxv",
        "colab_type": "code",
        "colab": {}
      },
      "cell_type": "code",
      "source": [
        "#Compiling the CNN\n",
        "classifier.compile(optimizer = 'adam', loss = 'binary_crossentropy', metrics = ['accuracy'])"
      ],
      "execution_count": 0,
      "outputs": []
    },
    {
      "metadata": {
        "id": "TKuGBgeXfMts",
        "colab_type": "code",
        "colab": {
          "base_uri": "https://localhost:8080/",
          "height": 343
        },
        "outputId": "d59a1f66-dbef-4458-ea41-93adee167b69"
      },
      "cell_type": "code",
      "source": [
        "#Fitting the CNN to the images - Image Augmentation - Preventing over-fitting\n",
        "from keras.preprocessing.image import ImageDataGenerator\n",
        "\n",
        "train_datagen = ImageDataGenerator(\n",
        "        rescale=1./255,\n",
        "        shear_range=0.2,\n",
        "        zoom_range=0.2,\n",
        "        horizontal_flip=True)\n",
        "\n",
        "test_datagen = ImageDataGenerator(rescale=1./255)\n",
        "\n",
        "training_set = train_datagen.flow_from_directory(\n",
        "        \n",
        "        '/content/drive/My Drive/Private/dataset/training_set',\n",
        "        target_size=(64, 64),\n",
        "        batch_size=32,\n",
        "        class_mode='binary')\n",
        "\n",
        "test_set = test_datagen.flow_from_directory(\n",
        "        '/content/drive/My Drive/Private/dataset/training_set',\n",
        "        target_size=(64, 64),\n",
        "        batch_size=32,\n",
        "        class_mode='binary')\n",
        "\n",
        "classifier.fit_generator(\n",
        "                      training_set,\n",
        "                      steps_per_epoch=8000,\n",
        "                      epochs=10,\n",
        "                      validation_data=test_set,\n",
        "                      validation_steps=2000)\n",
        "\n",
        "\n",
        "\n"
      ],
      "execution_count": 13,
      "outputs": [
        {
          "output_type": "stream",
          "text": [
            "Found 8000 images belonging to 2 classes.\n",
            "Found 8000 images belonging to 2 classes.\n",
            "Epoch 1/10\n",
            "8000/8000 [==============================] - 1932s 241ms/step - loss: 0.0240 - acc: 0.9924 - val_loss: 0.0453 - val_acc: 0.9845\n",
            "Epoch 2/10\n",
            "8000/8000 [==============================] - 2120s 265ms/step - loss: 0.0213 - acc: 0.9935 - val_loss: 0.0162 - val_acc: 0.9954\n",
            "Epoch 3/10\n",
            "8000/8000 [==============================] - 2160s 270ms/step - loss: 0.0203 - acc: 0.9934 - val_loss: 0.0299 - val_acc: 0.9914\n",
            "Epoch 4/10\n",
            "8000/8000 [==============================] - 2174s 272ms/step - loss: 0.0185 - acc: 0.9944 - val_loss: 0.1006 - val_acc: 0.9768\n",
            "Epoch 5/10\n",
            "8000/8000 [==============================] - 2159s 270ms/step - loss: 0.0164 - acc: 0.9950 - val_loss: 0.0080 - val_acc: 0.9975\n",
            "Epoch 6/10\n",
            "8000/8000 [==============================] - 2153s 269ms/step - loss: 0.0157 - acc: 0.9952 - val_loss: 0.0220 - val_acc: 0.9954\n",
            "Epoch 7/10\n",
            "8000/8000 [==============================] - 2147s 268ms/step - loss: 0.0148 - acc: 0.9955 - val_loss: 0.0193 - val_acc: 0.9942\n",
            "Epoch 8/10\n",
            "2370/8000 [=======>......................] - ETA: 21:10 - loss: 0.0156 - acc: 0.9953Buffered data was truncated after reaching the output size limit."
          ],
          "name": "stdout"
        }
      ]
    },
    {
      "metadata": {
        "id": "7xLTSw7FC36c",
        "colab_type": "code",
        "colab": {}
      },
      "cell_type": "code",
      "source": [
        ""
      ],
      "execution_count": 0,
      "outputs": []
    }
  ]
}